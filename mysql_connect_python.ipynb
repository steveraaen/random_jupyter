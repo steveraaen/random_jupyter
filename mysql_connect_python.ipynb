{
 "cells": [
  {
   "cell_type": "code",
   "execution_count": 89,
   "metadata": {},
   "outputs": [],
   "source": [
    "import mysql.connector\n",
    "from mysql.connector import errorcode\n",
    "from mysql.connector.constants import ClientFlag\n",
    "import pandas as pd"
   ]
  },
  {
   "cell_type": "code",
   "execution_count": 90,
   "metadata": {},
   "outputs": [],
   "source": [
    "try:\n",
    "  cnx = mysql.connector.connect(\n",
    "  host=\"steveport.com\",\n",
    "  user=\"tranch5_sjr\",\n",
    "  port=\"3306\",\n",
    "  password=\"modernWater360\",\n",
    "  database=\"tranch5_milb\"  \n",
    ")\n",
    "except mysql.connector.Error as err:\n",
    "  if err.errno == errorcode.ER_ACCESS_DENIED_ERROR:\n",
    "    print(\"Something is wrong with your user name or password\")\n",
    "  elif err.errno == errorcode.ER_BAD_DB_ERROR:\n",
    "    print(\"Database does not exist\")\n",
    "  else:\n",
    "    print(err)      \n",
    "cursor = cnx.cursor()"
   ]
  },
  {
   "cell_type": "code",
   "execution_count": 91,
   "metadata": {},
   "outputs": [],
   "source": [
    "TABLES = {}\n",
    "TABLES['latestBatting'] = (\n",
    "    \"   CREATE TABLE `latestBatting` (\"\n",
    "    \"  `playerName` VARCHAR(30),\"\n",
    "    \"  `playerID` VARCHAR(12),\"\n",
    "    \"  `age` INT,\"\n",
    "    \"  `tm` varchar(60),\"\n",
    "    \"  `league` varchar(2),\"\n",
    "    \"  `G` INT, \"\n",
    "    \"  `PA` INT, \"\n",
    "    \"  `AB` INT, \"\n",
    "    \"  `R` INT, \"\n",
    "    \"  `H` INT, \"\n",
    "    \"  `B2` INT, \"\n",
    "    \"  `B3` INT, \"\n",
    "    \"  `HR` INT, \"\n",
    "    \"  `RBI` INT, \"\n",
    "    \"  `SB` INT, \"\n",
    "    \"  `CS` INT, \"\n",
    "    \"  `BB` INT, \"\n",
    "    \"  `SO` INT, \"\n",
    "    \"  `TB` INT, \"\n",
    "    \"  `GDP` INT, \"\n",
    "    \"  `HBP` INT, \"\n",
    "    \"  `SH` INT, \"\n",
    "    \"  `SF` INT, \"\n",
    "    \"  `IBB` INT \"\n",
    "    \") ENGINE=InnoDB\")\n"
   ]
  },
  {
   "cell_type": "code",
   "execution_count": 92,
   "metadata": {},
   "outputs": [
    {
     "name": "stdout",
     "output_type": "stream",
     "text": [
      "Creating table latestBatting: already exists.\n"
     ]
    }
   ],
   "source": [
    "for table_name in TABLES:\n",
    "    table_description = TABLES[table_name]\n",
    "    try:\n",
    "        print(\"Creating table {}: \".format(table_name), end='')\n",
    "        cursor.execute(table_description)\n",
    "    except mysql.connector.Error as err:\n",
    "        if err.errno == errorcode.ER_TABLE_EXISTS_ERROR:\n",
    "            print(\"already exists.\")\n",
    "        else:\n",
    "            print(err.msg)\n",
    "    else:\n",
    "        print(\"OK\")\n"
   ]
  },
  {
   "cell_type": "code",
   "execution_count": 93,
   "metadata": {},
   "outputs": [],
   "source": [
    "batFile = pd.read_csv('battingSnapshot.csv')"
   ]
  },
  {
   "cell_type": "code",
   "execution_count": 125,
   "metadata": {},
   "outputs": [
    {
     "data": {
      "text/plain": [
       "19"
      ]
     },
     "execution_count": 125,
     "metadata": {},
     "output_type": "execute_result"
    }
   ],
   "source": [
    "len('battingSnapshot.csv')"
   ]
  },
  {
   "cell_type": "code",
   "execution_count": 126,
   "metadata": {},
   "outputs": [],
   "source": [
    "try:\n",
    "  cnx2 = mysql.connector.connect(\n",
    "  host=\"steveport.com\",\n",
    "  user=\"tranch5_sjr\",\n",
    "  port=\"3306\",\n",
    "  password=\"modernWater360\",\n",
    "  database=\"tranch5_milb\"  \n",
    ")\n",
    "except mysql.connector.Error as err:\n",
    "  if err.errno == errorcode.ER_ACCESS_DENIED_ERROR:\n",
    "    print(\"Something is wrong with your user name or password\")\n",
    "  elif err.errno == errorcode.ER_BAD_DB_ERROR:\n",
    "    print(\"Database does not exist\")\n",
    "  else:\n",
    "    print(err)      \n",
    "cursor2 = cnx2.cursor()"
   ]
  },
  {
   "cell_type": "code",
   "execution_count": null,
   "metadata": {},
   "outputs": [],
   "source": []
  },
  {
   "cell_type": "code",
   "execution_count": 105,
   "metadata": {},
   "outputs": [
    {
     "data": {
      "text/plain": [
       "<mysql.connector.connection_cext.CMySQLConnection at 0x7f2985271668>"
      ]
     },
     "execution_count": 105,
     "metadata": {},
     "output_type": "execute_result"
    }
   ],
   "source": [
    "cnx"
   ]
  }
 ],
 "metadata": {
  "kernelspec": {
   "display_name": "Python 3",
   "language": "python",
   "name": "python3"
  },
  "language_info": {
   "codemirror_mode": {
    "name": "ipython",
    "version": 3
   },
   "file_extension": ".py",
   "mimetype": "text/x-python",
   "name": "python",
   "nbconvert_exporter": "python",
   "pygments_lexer": "ipython3",
   "version": "3.6.8"
  }
 },
 "nbformat": 4,
 "nbformat_minor": 2
}
